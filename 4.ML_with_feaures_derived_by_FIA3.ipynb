{
 "cells": [
  {
   "cell_type": "markdown",
   "id": "50957bbe-b67a-4ec2-b6ff-1c5a3bc9490f",
   "metadata": {},
   "source": [
    "# ML with features derived by 1/2 of feature importance algorithm FIA1 and 1/2 of feature importance algorithm FIA2"
   ]
  },
  {
   "cell_type": "code",
   "execution_count": 1,
   "id": "a4f66d6e-55dc-4e6a-aa0b-ad71549d942f",
   "metadata": {},
   "outputs": [
    {
     "name": "stdout",
     "output_type": "stream",
     "text": [
      "Shape of df_1:  (6636, 4323)\n"
     ]
    },
    {
     "data": {
      "text/html": [
       "<div>\n",
       "<style scoped>\n",
       "    .dataframe tbody tr th:only-of-type {\n",
       "        vertical-align: middle;\n",
       "    }\n",
       "\n",
       "    .dataframe tbody tr th {\n",
       "        vertical-align: top;\n",
       "    }\n",
       "\n",
       "    .dataframe thead th {\n",
       "        text-align: right;\n",
       "    }\n",
       "</style>\n",
       "<table border=\"1\" class=\"dataframe\">\n",
       "  <thead>\n",
       "    <tr style=\"text-align: right;\">\n",
       "      <th></th>\n",
       "      <th>target</th>\n",
       "      <th>acenaphthyleno</th>\n",
       "      <th>acetaldehyde</th>\n",
       "      <th>acetamide</th>\n",
       "      <th>acetamido</th>\n",
       "      <th>acetamidoacetyl</th>\n",
       "      <th>acetamidoadamantane</th>\n",
       "      <th>acetamidoanilino</th>\n",
       "      <th>acetamidobenzenesulfonate</th>\n",
       "      <th>acetamidobenzoate</th>\n",
       "      <th>...</th>\n",
       "      <th>ynylimidazo</th>\n",
       "      <th>ynylindol</th>\n",
       "      <th>ynylpiperidine</th>\n",
       "      <th>ynylpropanamide</th>\n",
       "      <th>ynylpyrido</th>\n",
       "      <th>ynylpyrimido</th>\n",
       "      <th>ynylsulfanyl</th>\n",
       "      <th>ynylsulfanylbenzimidazol</th>\n",
       "      <th>ynylthieno</th>\n",
       "      <th>zinc</th>\n",
       "    </tr>\n",
       "  </thead>\n",
       "  <tbody>\n",
       "    <tr>\n",
       "      <th>10</th>\n",
       "      <td>1</td>\n",
       "      <td>0</td>\n",
       "      <td>0</td>\n",
       "      <td>0</td>\n",
       "      <td>0</td>\n",
       "      <td>0</td>\n",
       "      <td>0</td>\n",
       "      <td>0</td>\n",
       "      <td>0</td>\n",
       "      <td>0</td>\n",
       "      <td>...</td>\n",
       "      <td>0</td>\n",
       "      <td>0</td>\n",
       "      <td>0</td>\n",
       "      <td>0</td>\n",
       "      <td>0</td>\n",
       "      <td>0</td>\n",
       "      <td>0</td>\n",
       "      <td>0</td>\n",
       "      <td>0</td>\n",
       "      <td>0</td>\n",
       "    </tr>\n",
       "    <tr>\n",
       "      <th>13</th>\n",
       "      <td>1</td>\n",
       "      <td>0</td>\n",
       "      <td>0</td>\n",
       "      <td>0</td>\n",
       "      <td>0</td>\n",
       "      <td>0</td>\n",
       "      <td>0</td>\n",
       "      <td>0</td>\n",
       "      <td>0</td>\n",
       "      <td>0</td>\n",
       "      <td>...</td>\n",
       "      <td>0</td>\n",
       "      <td>0</td>\n",
       "      <td>0</td>\n",
       "      <td>0</td>\n",
       "      <td>0</td>\n",
       "      <td>0</td>\n",
       "      <td>0</td>\n",
       "      <td>0</td>\n",
       "      <td>0</td>\n",
       "      <td>0</td>\n",
       "    </tr>\n",
       "    <tr>\n",
       "      <th>16</th>\n",
       "      <td>1</td>\n",
       "      <td>0</td>\n",
       "      <td>0</td>\n",
       "      <td>0</td>\n",
       "      <td>0</td>\n",
       "      <td>0</td>\n",
       "      <td>0</td>\n",
       "      <td>0</td>\n",
       "      <td>0</td>\n",
       "      <td>0</td>\n",
       "      <td>...</td>\n",
       "      <td>0</td>\n",
       "      <td>0</td>\n",
       "      <td>0</td>\n",
       "      <td>0</td>\n",
       "      <td>0</td>\n",
       "      <td>0</td>\n",
       "      <td>0</td>\n",
       "      <td>0</td>\n",
       "      <td>0</td>\n",
       "      <td>0</td>\n",
       "    </tr>\n",
       "    <tr>\n",
       "      <th>18</th>\n",
       "      <td>1</td>\n",
       "      <td>0</td>\n",
       "      <td>0</td>\n",
       "      <td>0</td>\n",
       "      <td>0</td>\n",
       "      <td>0</td>\n",
       "      <td>0</td>\n",
       "      <td>0</td>\n",
       "      <td>0</td>\n",
       "      <td>0</td>\n",
       "      <td>...</td>\n",
       "      <td>0</td>\n",
       "      <td>0</td>\n",
       "      <td>0</td>\n",
       "      <td>0</td>\n",
       "      <td>0</td>\n",
       "      <td>0</td>\n",
       "      <td>0</td>\n",
       "      <td>0</td>\n",
       "      <td>0</td>\n",
       "      <td>0</td>\n",
       "    </tr>\n",
       "    <tr>\n",
       "      <th>21</th>\n",
       "      <td>1</td>\n",
       "      <td>0</td>\n",
       "      <td>0</td>\n",
       "      <td>1</td>\n",
       "      <td>0</td>\n",
       "      <td>0</td>\n",
       "      <td>0</td>\n",
       "      <td>0</td>\n",
       "      <td>0</td>\n",
       "      <td>0</td>\n",
       "      <td>...</td>\n",
       "      <td>0</td>\n",
       "      <td>0</td>\n",
       "      <td>0</td>\n",
       "      <td>0</td>\n",
       "      <td>0</td>\n",
       "      <td>0</td>\n",
       "      <td>0</td>\n",
       "      <td>0</td>\n",
       "      <td>0</td>\n",
       "      <td>0</td>\n",
       "    </tr>\n",
       "  </tbody>\n",
       "</table>\n",
       "<p>5 rows × 4323 columns</p>\n",
       "</div>"
      ],
      "text/plain": [
       "    target  acenaphthyleno  acetaldehyde  acetamide  acetamido  \\\n",
       "10       1               0             0          0          0   \n",
       "13       1               0             0          0          0   \n",
       "16       1               0             0          0          0   \n",
       "18       1               0             0          0          0   \n",
       "21       1               0             0          1          0   \n",
       "\n",
       "    acetamidoacetyl  acetamidoadamantane  acetamidoanilino  \\\n",
       "10                0                    0                 0   \n",
       "13                0                    0                 0   \n",
       "16                0                    0                 0   \n",
       "18                0                    0                 0   \n",
       "21                0                    0                 0   \n",
       "\n",
       "    acetamidobenzenesulfonate  acetamidobenzoate  ...  ynylimidazo  ynylindol  \\\n",
       "10                          0                  0  ...            0          0   \n",
       "13                          0                  0  ...            0          0   \n",
       "16                          0                  0  ...            0          0   \n",
       "18                          0                  0  ...            0          0   \n",
       "21                          0                  0  ...            0          0   \n",
       "\n",
       "    ynylpiperidine  ynylpropanamide  ynylpyrido  ynylpyrimido  ynylsulfanyl  \\\n",
       "10               0                0           0             0             0   \n",
       "13               0                0           0             0             0   \n",
       "16               0                0           0             0             0   \n",
       "18               0                0           0             0             0   \n",
       "21               0                0           0             0             0   \n",
       "\n",
       "    ynylsulfanylbenzimidazol  ynylthieno  zinc  \n",
       "10                         0           0     0  \n",
       "13                         0           0     0  \n",
       "16                         0           0     0  \n",
       "18                         0           0     0  \n",
       "21                         0           0     0  \n",
       "\n",
       "[5 rows x 4323 columns]"
      ]
     },
     "execution_count": 1,
     "metadata": {},
     "output_type": "execute_result"
    }
   ],
   "source": [
    "import pandas as pd \n",
    "\n",
    "# # loading the dataset with target 1 \n",
    "df_1 = pd.read_csv('df_1.csv', index_col=[0])\n",
    "\n",
    "# Display the data frame\n",
    "print('Shape of df_1: ', df_1.shape)\n",
    "df_1.head()"
   ]
  },
  {
   "cell_type": "code",
   "execution_count": 2,
   "id": "bda1694f-d6c9-4bc9-b354-a02bfd8791e1",
   "metadata": {},
   "outputs": [
    {
     "data": {
      "text/plain": [
       "(6636, 25)"
      ]
     },
     "execution_count": 2,
     "metadata": {},
     "output_type": "execute_result"
    }
   ],
   "source": [
    "# First 24 features casted by feature importance algorithm FIA1\n",
    "df_1 = df_1[['methylsulfonylanilino', 'cyano',  'carboxylate',\n",
    "             'cyclopenta', 'oxoethyl', 'pyrimidine', 'carbonitrile',\n",
    "             'ethanol','dimethoxyphenyl', 'tetrahydro',  'diamine', \n",
    "             'imino','chlorophenyl', 'pyridin', 'fluorophenyl','acetamide',\n",
    "             'nitrophenyl', 'carboxamide', 'chloro', 'methoxyphenyl', 'phenyl', \n",
    "             'ethyl', 'amino', 'methyl', 'target']]\n",
    "\n",
    "df_1.shape"
   ]
  },
  {
   "cell_type": "code",
   "execution_count": 3,
   "id": "e637da13-5aeb-4455-815a-9d5dd35e3fe3",
   "metadata": {},
   "outputs": [],
   "source": [
    "# Shuffle the resulting data set\n",
    "df_1 = df_1.sample(\n",
    "    frac = 1,        # Return entire dataframe\n",
    "    random_state=1   # Make result reproducible\n",
    "    ).reset_index(drop=True)\n",
    "\n",
    "# Extract 1650 samples labled 1 \n",
    "df_1_test = df_1.iloc[:1650]\n",
    "\n",
    "# Assign the rest of target 1 to the train set\n",
    "df_1_train = df_1.iloc[1650:]"
   ]
  },
  {
   "cell_type": "code",
   "execution_count": 4,
   "id": "2477c148-4567-44d9-8583-00d75580a1f2",
   "metadata": {},
   "outputs": [
    {
     "name": "stdout",
     "output_type": "stream",
     "text": [
      "Shape of df_0:  (9783, 4323)\n"
     ]
    },
    {
     "data": {
      "text/html": [
       "<div>\n",
       "<style scoped>\n",
       "    .dataframe tbody tr th:only-of-type {\n",
       "        vertical-align: middle;\n",
       "    }\n",
       "\n",
       "    .dataframe tbody tr th {\n",
       "        vertical-align: top;\n",
       "    }\n",
       "\n",
       "    .dataframe thead th {\n",
       "        text-align: right;\n",
       "    }\n",
       "</style>\n",
       "<table border=\"1\" class=\"dataframe\">\n",
       "  <thead>\n",
       "    <tr style=\"text-align: right;\">\n",
       "      <th></th>\n",
       "      <th>target</th>\n",
       "      <th>acenaphthyleno</th>\n",
       "      <th>acetaldehyde</th>\n",
       "      <th>acetamide</th>\n",
       "      <th>acetamido</th>\n",
       "      <th>acetamidoacetyl</th>\n",
       "      <th>acetamidoadamantane</th>\n",
       "      <th>acetamidoanilino</th>\n",
       "      <th>acetamidobenzenesulfonate</th>\n",
       "      <th>acetamidobenzoate</th>\n",
       "      <th>...</th>\n",
       "      <th>ynylimidazo</th>\n",
       "      <th>ynylindol</th>\n",
       "      <th>ynylpiperidine</th>\n",
       "      <th>ynylpropanamide</th>\n",
       "      <th>ynylpyrido</th>\n",
       "      <th>ynylpyrimido</th>\n",
       "      <th>ynylsulfanyl</th>\n",
       "      <th>ynylsulfanylbenzimidazol</th>\n",
       "      <th>ynylthieno</th>\n",
       "      <th>zinc</th>\n",
       "    </tr>\n",
       "  </thead>\n",
       "  <tbody>\n",
       "    <tr>\n",
       "      <th>0</th>\n",
       "      <td>0</td>\n",
       "      <td>0</td>\n",
       "      <td>0</td>\n",
       "      <td>0</td>\n",
       "      <td>0</td>\n",
       "      <td>0</td>\n",
       "      <td>0</td>\n",
       "      <td>0</td>\n",
       "      <td>0</td>\n",
       "      <td>0</td>\n",
       "      <td>...</td>\n",
       "      <td>0</td>\n",
       "      <td>0</td>\n",
       "      <td>0</td>\n",
       "      <td>0</td>\n",
       "      <td>0</td>\n",
       "      <td>0</td>\n",
       "      <td>0</td>\n",
       "      <td>0</td>\n",
       "      <td>0</td>\n",
       "      <td>0</td>\n",
       "    </tr>\n",
       "    <tr>\n",
       "      <th>4</th>\n",
       "      <td>0</td>\n",
       "      <td>0</td>\n",
       "      <td>0</td>\n",
       "      <td>1</td>\n",
       "      <td>0</td>\n",
       "      <td>0</td>\n",
       "      <td>0</td>\n",
       "      <td>0</td>\n",
       "      <td>0</td>\n",
       "      <td>0</td>\n",
       "      <td>...</td>\n",
       "      <td>0</td>\n",
       "      <td>0</td>\n",
       "      <td>0</td>\n",
       "      <td>0</td>\n",
       "      <td>0</td>\n",
       "      <td>0</td>\n",
       "      <td>0</td>\n",
       "      <td>0</td>\n",
       "      <td>0</td>\n",
       "      <td>0</td>\n",
       "    </tr>\n",
       "    <tr>\n",
       "      <th>8</th>\n",
       "      <td>0</td>\n",
       "      <td>0</td>\n",
       "      <td>0</td>\n",
       "      <td>0</td>\n",
       "      <td>0</td>\n",
       "      <td>0</td>\n",
       "      <td>0</td>\n",
       "      <td>0</td>\n",
       "      <td>0</td>\n",
       "      <td>0</td>\n",
       "      <td>...</td>\n",
       "      <td>0</td>\n",
       "      <td>0</td>\n",
       "      <td>0</td>\n",
       "      <td>0</td>\n",
       "      <td>0</td>\n",
       "      <td>0</td>\n",
       "      <td>0</td>\n",
       "      <td>0</td>\n",
       "      <td>0</td>\n",
       "      <td>0</td>\n",
       "    </tr>\n",
       "    <tr>\n",
       "      <th>12</th>\n",
       "      <td>0</td>\n",
       "      <td>0</td>\n",
       "      <td>0</td>\n",
       "      <td>0</td>\n",
       "      <td>0</td>\n",
       "      <td>0</td>\n",
       "      <td>0</td>\n",
       "      <td>0</td>\n",
       "      <td>0</td>\n",
       "      <td>0</td>\n",
       "      <td>...</td>\n",
       "      <td>0</td>\n",
       "      <td>0</td>\n",
       "      <td>0</td>\n",
       "      <td>0</td>\n",
       "      <td>0</td>\n",
       "      <td>0</td>\n",
       "      <td>0</td>\n",
       "      <td>0</td>\n",
       "      <td>0</td>\n",
       "      <td>0</td>\n",
       "    </tr>\n",
       "    <tr>\n",
       "      <th>16</th>\n",
       "      <td>0</td>\n",
       "      <td>0</td>\n",
       "      <td>0</td>\n",
       "      <td>0</td>\n",
       "      <td>0</td>\n",
       "      <td>0</td>\n",
       "      <td>0</td>\n",
       "      <td>0</td>\n",
       "      <td>0</td>\n",
       "      <td>0</td>\n",
       "      <td>...</td>\n",
       "      <td>0</td>\n",
       "      <td>0</td>\n",
       "      <td>0</td>\n",
       "      <td>0</td>\n",
       "      <td>0</td>\n",
       "      <td>0</td>\n",
       "      <td>0</td>\n",
       "      <td>0</td>\n",
       "      <td>0</td>\n",
       "      <td>0</td>\n",
       "    </tr>\n",
       "  </tbody>\n",
       "</table>\n",
       "<p>5 rows × 4323 columns</p>\n",
       "</div>"
      ],
      "text/plain": [
       "    target  acenaphthyleno  acetaldehyde  acetamide  acetamido  \\\n",
       "0        0               0             0          0          0   \n",
       "4        0               0             0          1          0   \n",
       "8        0               0             0          0          0   \n",
       "12       0               0             0          0          0   \n",
       "16       0               0             0          0          0   \n",
       "\n",
       "    acetamidoacetyl  acetamidoadamantane  acetamidoanilino  \\\n",
       "0                 0                    0                 0   \n",
       "4                 0                    0                 0   \n",
       "8                 0                    0                 0   \n",
       "12                0                    0                 0   \n",
       "16                0                    0                 0   \n",
       "\n",
       "    acetamidobenzenesulfonate  acetamidobenzoate  ...  ynylimidazo  ynylindol  \\\n",
       "0                           0                  0  ...            0          0   \n",
       "4                           0                  0  ...            0          0   \n",
       "8                           0                  0  ...            0          0   \n",
       "12                          0                  0  ...            0          0   \n",
       "16                          0                  0  ...            0          0   \n",
       "\n",
       "    ynylpiperidine  ynylpropanamide  ynylpyrido  ynylpyrimido  ynylsulfanyl  \\\n",
       "0                0                0           0             0             0   \n",
       "4                0                0           0             0             0   \n",
       "8                0                0           0             0             0   \n",
       "12               0                0           0             0             0   \n",
       "16               0                0           0             0             0   \n",
       "\n",
       "    ynylsulfanylbenzimidazol  ynylthieno  zinc  \n",
       "0                          0           0     0  \n",
       "4                          0           0     0  \n",
       "8                          0           0     0  \n",
       "12                         0           0     0  \n",
       "16                         0           0     0  \n",
       "\n",
       "[5 rows x 4323 columns]"
      ]
     },
     "execution_count": 4,
     "metadata": {},
     "output_type": "execute_result"
    }
   ],
   "source": [
    "# # loading the dataset for the regression ML\n",
    "df_0 = pd.read_csv('df_0.csv', index_col=[0])\n",
    "\n",
    "# Display the data frame\n",
    "print('Shape of df_0: ', df_0.shape)\n",
    "df_0.head()"
   ]
  },
  {
   "cell_type": "code",
   "execution_count": 5,
   "id": "b99d7a9a-09a0-43d5-a15f-d8cfebaa5a16",
   "metadata": {},
   "outputs": [
    {
     "data": {
      "text/plain": [
       "(9783, 25)"
      ]
     },
     "execution_count": 5,
     "metadata": {},
     "output_type": "execute_result"
    }
   ],
   "source": [
    "# First 24 features casted by feature importance algorithm FIA1\n",
    "df_0 = df_0[['methylsulfonylanilino', 'cyano',  'carboxylate',\n",
    "             'cyclopenta', 'oxoethyl', 'pyrimidine', 'carbonitrile',\n",
    "             'ethanol','dimethoxyphenyl', 'tetrahydro',  'diamine', \n",
    "             'imino','chlorophenyl', 'pyridin', 'fluorophenyl','acetamide',\n",
    "             'nitrophenyl', 'carboxamide', 'chloro', 'methoxyphenyl', 'phenyl', \n",
    "             'ethyl', 'amino', 'methyl', 'target']]\n",
    "\n",
    "df_0.shape"
   ]
  },
  {
   "cell_type": "code",
   "execution_count": 6,
   "id": "348ca2e3-e1eb-4fcc-8eaf-e20d8a19d708",
   "metadata": {},
   "outputs": [],
   "source": [
    "# Shuffle the resulting data set\n",
    "df_0 = df_0.sample(\n",
    "    frac = 1,        # Return entire dataframe\n",
    "    random_state=1   # Make result reproducible\n",
    "    ).reset_index(drop=True)\n",
    "\n",
    "# Extract 1650 samples labled 0\n",
    "df_0_test = df_0.iloc[:1650]\n",
    "\n",
    "# Assign the rest of target 0 the the train set\n",
    "df_0_train = df_0.iloc[1650:]"
   ]
  },
  {
   "cell_type": "code",
   "execution_count": 7,
   "id": "cae364e7-5356-4428-aa95-efa236bdfd87",
   "metadata": {},
   "outputs": [],
   "source": [
    "# Create train and test dataframe for further manipulation \n",
    "train = pd.concat([df_0_train, df_1_train])\n",
    "test = pd.concat([df_0_test, df_1_test])"
   ]
  },
  {
   "cell_type": "code",
   "execution_count": 8,
   "id": "9805a31e-71f4-4e89-a739-91f1fb3fd3b2",
   "metadata": {},
   "outputs": [],
   "source": [
    "# Shuffle the resulting data set\n",
    "train = train.sample(\n",
    "    frac = 1,        # Return entire dataframe\n",
    "    random_state=1   # Make result reproducible\n",
    "    ).reset_index(drop=True)\n",
    "\n",
    "# Shuffle the resulting data set\n",
    "test = test.sample(\n",
    "    frac = 1,        # Return entire dataframe\n",
    "    random_state=1   # Make result reproducible\n",
    "    ).reset_index(drop=True)"
   ]
  },
  {
   "cell_type": "code",
   "execution_count": 9,
   "id": "0eeee27f-afcd-4097-a3be-6611d40b7c59",
   "metadata": {},
   "outputs": [],
   "source": [
    "# Create the sets for ML \n",
    "X_train = train.drop(columns='target', axis=1)\n",
    "y_train = train['target']\n",
    "X_test =  test.drop(columns='target', axis=1)\n",
    "y_test = test['target']"
   ]
  },
  {
   "cell_type": "code",
   "execution_count": 10,
   "id": "92801c40-2670-4ae9-ada6-b44993399fb4",
   "metadata": {},
   "outputs": [],
   "source": [
    "# Create the sets for Cross-validation\n",
    "X = pd.concat([X_train, X_test])\n",
    "y = pd.concat([y_train,y_test])"
   ]
  },
  {
   "cell_type": "code",
   "execution_count": 11,
   "id": "0222c70c-0269-44f1-a3c9-c4be0c1aa79a",
   "metadata": {},
   "outputs": [
    {
     "data": {
      "text/plain": [
       "target\n",
       "1    1650\n",
       "0    1650\n",
       "Name: count, dtype: int64"
      ]
     },
     "execution_count": 11,
     "metadata": {},
     "output_type": "execute_result"
    }
   ],
   "source": [
    "# Check the number of classes in the y_test set\n",
    "y_test.value_counts()"
   ]
  },
  {
   "cell_type": "code",
   "execution_count": 12,
   "id": "dadeaaec-8e91-466a-85a3-763dd1a177e9",
   "metadata": {},
   "outputs": [
    {
     "name": "stdout",
     "output_type": "stream",
     "text": [
      "[(0, 8133), (1, 4986)]\n"
     ]
    },
    {
     "data": {
      "image/png": "[encoded data removed]",
      "text/plain": [
       "<Figure size 640x480 with 1 Axes>"
      ]
     },
     "metadata": {},
     "output_type": "display_data"
    }
   ],
   "source": [
    "from collections import Counter\n",
    "from matplotlib import pyplot as plt\n",
    "import seaborn as sns\n",
    "\n",
    "# Illustrate the imbalance between classification targets \n",
    "print(sorted(Counter(y_train).items()))\n",
    "sns.set_style('white')\n",
    "sns.set(font_scale=1)\n",
    "plt.figure()\n",
    "sns.countplot(x=y_train, hue=y_train, palette='nipy_spectral')\n",
    "plt.show()"
   ]
  },
  {
   "cell_type": "code",
   "execution_count": 13,
   "id": "7ac96b34-35a8-47e5-b6a5-e50bd6793f07",
   "metadata": {},
   "outputs": [
    {
     "name": "stdout",
     "output_type": "stream",
     "text": [
      "[(0, 8133), (1, 8133)]\n"
     ]
    },
    {
     "data": {
      "image/png": "[encoded data removed]",
      "text/plain": [
       "<Figure size 640x480 with 1 Axes>"
      ]
     },
     "metadata": {},
     "output_type": "display_data"
    }
   ],
   "source": [
    "from imblearn.over_sampling import RandomOverSampler\n",
    "\n",
    "# Balance targets with RandomOverSampler\n",
    "ros = RandomOverSampler()\n",
    "X_train, y_train = ros.fit_resample(X_train, y_train)\n",
    "\n",
    "# Illustrate the balance between classification targets \n",
    "print(sorted(Counter(y_train).items()))\n",
    "sns.set_style('white')\n",
    "sns.set(font_scale=1)\n",
    "plt.figure()\n",
    "sns.countplot(x=y_train, hue=y_train,palette='nipy_spectral')\n",
    "plt.show()"
   ]
  },
  {
   "cell_type": "code",
   "execution_count": 14,
   "id": "1fa079f4-2a66-4c34-87f7-49b5108eda43",
   "metadata": {},
   "outputs": [
    {
     "name": "stdout",
     "output_type": "stream",
     "text": [
      "Shapes:\n",
      "X_train:  (16266, 24)\n",
      "X_test:   (3300, 24)\n",
      "y_train:  (16266,)\n",
      "y_test:   (3300,)\n"
     ]
    }
   ],
   "source": [
    "from sklearn.ensemble import RandomForestClassifier\n",
    "from sklearn import preprocessing\n",
    "from sklearn.model_selection import train_test_split\n",
    "from sklearn.metrics import f1_score, accuracy_score, precision_score, recall_score, roc_auc_score\n",
    "import matplotlib.pyplot as plt\n",
    "\n",
    "# Print the shape of each part\n",
    "print(\"Shapes:\")\n",
    "print(\"X_train: \", X_train.shape)\n",
    "print(\"X_test:  \", X_test.shape)\n",
    "print(\"y_train: \", y_train.shape)\n",
    "print(\"y_test:  \", y_test.shape)"
   ]
  },
  {
   "cell_type": "code",
   "execution_count": 15,
   "id": "bca83202-7db4-4e9c-bda1-e36cd984ac7d",
   "metadata": {},
   "outputs": [
    {
     "name": "stdout",
     "output_type": "stream",
     "text": [
      "Accuracy:  0.513\n",
      "Precision:  0.515\n",
      "Recall:  0.46\n",
      "F1:  0.486\n",
      "ROC:  0.513\n"
     ]
    }
   ],
   "source": [
    "# Instantiate the estimator \n",
    "model = RandomForestClassifier()\n",
    "\n",
    "# Train  \n",
    "model.fit(X_train, y_train)\n",
    "\n",
    "# Predict\n",
    "y_pred = model.predict(X_test)\n",
    "\n",
    "# Evaluation\n",
    "acc = round(accuracy_score(y_test, y_pred),3)\n",
    "print('Accuracy: ', acc)\n",
    "pre = round(precision_score(y_test, y_pred),3)\n",
    "print('Precision: ', pre) \n",
    "rec = round(recall_score(y_test, y_pred),3)\n",
    "print('Recall: ',rec) \n",
    "f1 = round(f1_score(y_test, y_pred),3)\n",
    "print('F1: ', f1) \n",
    "roc = round(roc_auc_score(y_test, y_pred),3) \n",
    "print('ROC: ', roc)"
   ]
  },
  {
   "cell_type": "code",
   "execution_count": 16,
   "id": "57e91c0d-c152-4911-9597-af0d2e548714",
   "metadata": {},
   "outputs": [
    {
     "name": "stdout",
     "output_type": "stream",
     "text": [
      "Cross-validation scores: [0.582 0.579 0.577 0.589 0.574]\n",
      "Mean cross-validation score: 0.58\n"
     ]
    }
   ],
   "source": [
    "from sklearn.model_selection import cross_val_score\n",
    "import numpy as np\n",
    "\n",
    "# Perform 5-fold cross-validation\n",
    "scores = cross_val_score(model, X, y, cv=5, scoring='accuracy')\n",
    "\n",
    "print(\"Cross-validation scores:\", np.round(scores, 3))\n",
    "print(\"Mean cross-validation score:\", np.round(scores.mean(), 3))"
   ]
  },
  {
   "cell_type": "markdown",
   "id": "176a0dcc-00c0-4679-b6f9-82223de266e1",
   "metadata": {},
   "source": [
    "[<a href=\"#content\">Back to top</a>]"
   ]
  }
 ],
 "metadata": {
  "kernelspec": {
   "display_name": "Python 3 (ipykernel)",
   "language": "python",
   "name": "python3"
  },
  "language_info": {
   "codemirror_mode": {
    "name": "ipython",
    "version": 3
   },
   "file_extension": ".py",
   "mimetype": "text/x-python",
   "name": "python",
   "nbconvert_exporter": "python",
   "pygments_lexer": "ipython3",
   "version": "3.12.2"
  }
 },
 "nbformat": 4,
 "nbformat_minor": 5
}
