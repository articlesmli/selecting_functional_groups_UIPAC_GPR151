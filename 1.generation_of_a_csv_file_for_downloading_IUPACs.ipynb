{
 "cells": [
  {
   "cell_type": "markdown",
   "id": "18f6f4f5-a126-4c4f-950b-8cc6ffa916b6",
   "metadata": {},
   "source": [
    "# Generation of a csv file for downloading of IUPACs name related to the the GPR151 protein activators "
   ]
  },
  {
   "cell_type": "markdown",
   "id": "1dcf9d82-657a-4656-b3f3-c8905d770694",
   "metadata": {},
   "source": [
    "### Content   <a name=\"content\"></a>"
   ]
  },
  {
   "cell_type": "markdown",
   "id": "b3551b8d-c497-4ba0-b627-ebcdd8e64a99",
   "metadata": {},
   "source": [
    "1. [Load and analyse PubChem BioAssay GPR151 protein activators data](#1)\n",
    "2. [Create a data frame with CIDs and targets](#2)\n",
    "3. [Reduce the inactive compounds](#3)\n",
    "4. [Generate the csv file for IUPAC names dowloading](#4)"
   ]
  },
  {
   "cell_type": "markdown",
   "id": "4b14090e-b376-4ffb-86be-653a06cb09e0",
   "metadata": {},
   "source": [
    "### Load and analyse PubChem BioAssay GPR151 data <a name=\"1\"></a>"
   ]
  },
  {
   "cell_type": "code",
   "execution_count": 1,
   "id": "e72d2861-3f2d-4804-803e-1c60ad3dbaaa",
   "metadata": {},
   "outputs": [
    {
     "name": "stdout",
     "output_type": "stream",
     "text": [
      "Shape of the data frame:  (646675, 9)\n"
     ]
    },
    {
     "data": {
      "text/html": [
       "<div>\n",
       "<style scoped>\n",
       "    .dataframe tbody tr th:only-of-type {\n",
       "        vertical-align: middle;\n",
       "    }\n",
       "\n",
       "    .dataframe tbody tr th {\n",
       "        vertical-align: top;\n",
       "    }\n",
       "\n",
       "    .dataframe thead th {\n",
       "        text-align: right;\n",
       "    }\n",
       "</style>\n",
       "<table border=\"1\" class=\"dataframe\">\n",
       "  <thead>\n",
       "    <tr style=\"text-align: right;\">\n",
       "      <th></th>\n",
       "      <th>PUBCHEM_RESULT_TAG</th>\n",
       "      <th>PUBCHEM_SID</th>\n",
       "      <th>PUBCHEM_CID</th>\n",
       "      <th>PUBCHEM_EXT_DATASOURCE_SMILES</th>\n",
       "      <th>PUBCHEM_ACTIVITY_OUTCOME</th>\n",
       "      <th>PUBCHEM_ACTIVITY_SCORE</th>\n",
       "      <th>PUBCHEM_ACTIVITY_URL</th>\n",
       "      <th>PUBCHEM_ASSAYDATA_COMMENT</th>\n",
       "      <th>Activation at 11.2 uM</th>\n",
       "    </tr>\n",
       "  </thead>\n",
       "  <tbody>\n",
       "    <tr>\n",
       "      <th>0</th>\n",
       "      <td>1</td>\n",
       "      <td>332971238</td>\n",
       "      <td>5308528.0</td>\n",
       "      <td>COC1=CC=CC=C1S(=O)(=O)CC2=CC=C(O2)C(=O)N3CCOCC3</td>\n",
       "      <td>Active</td>\n",
       "      <td>100</td>\n",
       "      <td>NaN</td>\n",
       "      <td>NaN</td>\n",
       "      <td>46.1972</td>\n",
       "    </tr>\n",
       "    <tr>\n",
       "      <th>1</th>\n",
       "      <td>2</td>\n",
       "      <td>333069819</td>\n",
       "      <td>45201490.0</td>\n",
       "      <td>C1COC2=C(CN1CC3=CC(=CC=C3)Cl)C=C(C=C2)C(C4=CN=...</td>\n",
       "      <td>Active</td>\n",
       "      <td>88</td>\n",
       "      <td>NaN</td>\n",
       "      <td>NaN</td>\n",
       "      <td>40.8481</td>\n",
       "    </tr>\n",
       "    <tr>\n",
       "      <th>2</th>\n",
       "      <td>3</td>\n",
       "      <td>333168812</td>\n",
       "      <td>2304502.0</td>\n",
       "      <td>COC1=CC=C(C=C1)C(=O)NC2=CC=CC(=C2)C(=O)N3CCCC3</td>\n",
       "      <td>Active</td>\n",
       "      <td>85</td>\n",
       "      <td>NaN</td>\n",
       "      <td>NaN</td>\n",
       "      <td>39.4266</td>\n",
       "    </tr>\n",
       "    <tr>\n",
       "      <th>3</th>\n",
       "      <td>4</td>\n",
       "      <td>333285740</td>\n",
       "      <td>1106138.0</td>\n",
       "      <td>C1=CC2=C(C=CC=C2Br)C(=C1)C(=O)NC3=CC=C(C=C3)NC...</td>\n",
       "      <td>Active</td>\n",
       "      <td>75</td>\n",
       "      <td>NaN</td>\n",
       "      <td>NaN</td>\n",
       "      <td>34.6718</td>\n",
       "    </tr>\n",
       "    <tr>\n",
       "      <th>4</th>\n",
       "      <td>5</td>\n",
       "      <td>332995771</td>\n",
       "      <td>621204.0</td>\n",
       "      <td>CC1=C(C=C(C=C1)N=CC2=CC(=C(C=C2)OC(=O)C)OC)F</td>\n",
       "      <td>Active</td>\n",
       "      <td>74</td>\n",
       "      <td>NaN</td>\n",
       "      <td>NaN</td>\n",
       "      <td>34.3703</td>\n",
       "    </tr>\n",
       "  </tbody>\n",
       "</table>\n",
       "</div>"
      ],
      "text/plain": [
       "   PUBCHEM_RESULT_TAG  PUBCHEM_SID  PUBCHEM_CID  \\\n",
       "0                   1    332971238    5308528.0   \n",
       "1                   2    333069819   45201490.0   \n",
       "2                   3    333168812    2304502.0   \n",
       "3                   4    333285740    1106138.0   \n",
       "4                   5    332995771     621204.0   \n",
       "\n",
       "                       PUBCHEM_EXT_DATASOURCE_SMILES PUBCHEM_ACTIVITY_OUTCOME  \\\n",
       "0    COC1=CC=CC=C1S(=O)(=O)CC2=CC=C(O2)C(=O)N3CCOCC3                   Active   \n",
       "1  C1COC2=C(CN1CC3=CC(=CC=C3)Cl)C=C(C=C2)C(C4=CN=...                   Active   \n",
       "2     COC1=CC=C(C=C1)C(=O)NC2=CC=CC(=C2)C(=O)N3CCCC3                   Active   \n",
       "3  C1=CC2=C(C=CC=C2Br)C(=C1)C(=O)NC3=CC=C(C=C3)NC...                   Active   \n",
       "4       CC1=C(C=C(C=C1)N=CC2=CC(=C(C=C2)OC(=O)C)OC)F                   Active   \n",
       "\n",
       "   PUBCHEM_ACTIVITY_SCORE  PUBCHEM_ACTIVITY_URL  PUBCHEM_ASSAYDATA_COMMENT  \\\n",
       "0                     100                   NaN                        NaN   \n",
       "1                      88                   NaN                        NaN   \n",
       "2                      85                   NaN                        NaN   \n",
       "3                      75                   NaN                        NaN   \n",
       "4                      74                   NaN                        NaN   \n",
       "\n",
       "  Activation at 11.2 uM  \n",
       "0               46.1972  \n",
       "1               40.8481  \n",
       "2               39.4266  \n",
       "3               34.6718  \n",
       "4               34.3703  "
      ]
     },
     "execution_count": 1,
     "metadata": {},
     "output_type": "execute_result"
    }
   ],
   "source": [
    "import pandas as pd \n",
    "\n",
    "# load the GPR151 BioAssay PubChem AID 1508602  dataset\n",
    "df = pd.read_csv('pubchem_GPR.csv', sep=';', low_memory=False, on_bad_lines='skip')\n",
    "\n",
    "# To avoid truncation of some columns during data frame display\n",
    "pd.set_option('display.max_columns', None) \n",
    "\n",
    "# Display the data frame\n",
    "print('Shape of the data frame: ', df.shape)\n",
    "df.head()"
   ]
  },
  {
   "cell_type": "code",
   "execution_count": 2,
   "id": "71e6f3b5-70bd-4164-98b0-439aed626be9",
   "metadata": {},
   "outputs": [
    {
     "name": "stdout",
     "output_type": "stream",
     "text": [
      "<class 'pandas.core.frame.DataFrame'>\n",
      "RangeIndex: 646675 entries, 0 to 646674\n",
      "Data columns (total 9 columns):\n",
      " #   Column                         Non-Null Count   Dtype  \n",
      "---  ------                         --------------   -----  \n",
      " 0   PUBCHEM_RESULT_TAG             646675 non-null  int64  \n",
      " 1   PUBCHEM_SID                    646675 non-null  int64  \n",
      " 2   PUBCHEM_CID                    646472 non-null  float64\n",
      " 3   PUBCHEM_EXT_DATASOURCE_SMILES  646472 non-null  object \n",
      " 4   PUBCHEM_ACTIVITY_OUTCOME       646675 non-null  object \n",
      " 5   PUBCHEM_ACTIVITY_SCORE         646675 non-null  int64  \n",
      " 6   PUBCHEM_ACTIVITY_URL           0 non-null       float64\n",
      " 7   PUBCHEM_ASSAYDATA_COMMENT      0 non-null       float64\n",
      " 8   Activation at 11.2 uM          646675 non-null  object \n",
      "dtypes: float64(3), int64(3), object(3)\n",
      "memory usage: 44.4+ MB\n"
     ]
    }
   ],
   "source": [
    "df.info()"
   ]
  },
  {
   "cell_type": "code",
   "execution_count": 3,
   "id": "dd9b495c-dd4b-4c61-8755-386c0f7cacd1",
   "metadata": {},
   "outputs": [
    {
     "data": {
      "text/plain": [
       "(639809, 9)"
      ]
     },
     "execution_count": 3,
     "metadata": {},
     "output_type": "execute_result"
    }
   ],
   "source": [
    "# Remove duplicates and reset the indexes \n",
    "df = df.drop_duplicates(subset='PUBCHEM_CID', keep=False).reset_index(drop=True)\n",
    "df.shape"
   ]
  },
  {
   "cell_type": "code",
   "execution_count": 4,
   "id": "7db5e6c6-c93d-4587-b6b3-315a3c1852c7",
   "metadata": {},
   "outputs": [],
   "source": [
    "# Turn CID float data type into integer\n",
    "df['PUBCHEM_CID'] = df['PUBCHEM_CID'].astype('int64') "
   ]
  },
  {
   "cell_type": "code",
   "execution_count": 5,
   "id": "d80f60b9-0463-4dfc-961b-8dbf76ad0dac",
   "metadata": {},
   "outputs": [
    {
     "data": {
      "text/plain": [
       "(639809, 3)"
      ]
     },
     "execution_count": 5,
     "metadata": {},
     "output_type": "execute_result"
    }
   ],
   "source": [
    "# Filter inhibitors \n",
    "df = df[['PUBCHEM_CID',\n",
    "         'PUBCHEM_SID',\n",
    "         'PUBCHEM_ACTIVITY_OUTCOME']] \n",
    "df.shape # 646675"
   ]
  },
  {
   "cell_type": "code",
   "execution_count": 6,
   "id": "732c994f-ea48-4579-a33d-eb0a54231445",
   "metadata": {},
   "outputs": [
    {
     "name": "stdout",
     "output_type": "stream",
     "text": [
      "<class 'pandas.core.frame.DataFrame'>\n",
      "RangeIndex: 639809 entries, 0 to 639808\n",
      "Data columns (total 3 columns):\n",
      " #   Column                    Non-Null Count   Dtype \n",
      "---  ------                    --------------   ----- \n",
      " 0   PUBCHEM_CID               639809 non-null  int64 \n",
      " 1   PUBCHEM_SID               639809 non-null  int64 \n",
      " 2   PUBCHEM_ACTIVITY_OUTCOME  639809 non-null  object\n",
      "dtypes: int64(2), object(1)\n",
      "memory usage: 14.6+ MB\n"
     ]
    }
   ],
   "source": [
    "df.info()"
   ]
  },
  {
   "cell_type": "markdown",
   "id": "50d49afb-f776-4dd3-b5bc-f90124cf9507",
   "metadata": {},
   "source": [
    "[<a href=\"#content\">Back to top</a>]"
   ]
  },
  {
   "cell_type": "markdown",
   "id": "464374f5-3a0f-4beb-aaaa-85d49b376fb5",
   "metadata": {},
   "source": [
    "## Create a data frame with CIDs and targets <a name=\"2\"></a>"
   ]
  },
  {
   "cell_type": "code",
   "execution_count": 7,
   "id": "22eb165d-558c-45ab-a6ab-9fc084858f1c",
   "metadata": {},
   "outputs": [
    {
     "data": {
      "text/plain": [
       "array(['Active', 'Inactive'], dtype=object)"
      ]
     },
     "execution_count": 7,
     "metadata": {},
     "output_type": "execute_result"
    }
   ],
   "source": [
    "df['PUBCHEM_ACTIVITY_OUTCOME'] = df['PUBCHEM_ACTIVITY_OUTCOME'].astype(str) \n",
    "# Get unique values from 'column1'\n",
    "unique_values = df['PUBCHEM_ACTIVITY_OUTCOME'].unique()\n",
    "unique_values "
   ]
  },
  {
   "cell_type": "code",
   "execution_count": 8,
   "id": "1c09ddea-4a56-4081-86df-267095aff749",
   "metadata": {
    "scrolled": true
   },
   "outputs": [
    {
     "name": "stdout",
     "output_type": "stream",
     "text": [
      "Shape of the data frame:  (639809, 3)\n"
     ]
    },
    {
     "data": {
      "text/html": [
       "<div>\n",
       "<style scoped>\n",
       "    .dataframe tbody tr th:only-of-type {\n",
       "        vertical-align: middle;\n",
       "    }\n",
       "\n",
       "    .dataframe tbody tr th {\n",
       "        vertical-align: top;\n",
       "    }\n",
       "\n",
       "    .dataframe thead th {\n",
       "        text-align: right;\n",
       "    }\n",
       "</style>\n",
       "<table border=\"1\" class=\"dataframe\">\n",
       "  <thead>\n",
       "    <tr style=\"text-align: right;\">\n",
       "      <th></th>\n",
       "      <th>CID</th>\n",
       "      <th>SID</th>\n",
       "      <th>target</th>\n",
       "    </tr>\n",
       "  </thead>\n",
       "  <tbody>\n",
       "    <tr>\n",
       "      <th>0</th>\n",
       "      <td>5308528</td>\n",
       "      <td>332971238</td>\n",
       "      <td>1</td>\n",
       "    </tr>\n",
       "    <tr>\n",
       "      <th>1</th>\n",
       "      <td>45201490</td>\n",
       "      <td>333069819</td>\n",
       "      <td>1</td>\n",
       "    </tr>\n",
       "    <tr>\n",
       "      <th>2</th>\n",
       "      <td>2304502</td>\n",
       "      <td>333168812</td>\n",
       "      <td>1</td>\n",
       "    </tr>\n",
       "    <tr>\n",
       "      <th>3</th>\n",
       "      <td>1106138</td>\n",
       "      <td>333285740</td>\n",
       "      <td>1</td>\n",
       "    </tr>\n",
       "    <tr>\n",
       "      <th>4</th>\n",
       "      <td>621204</td>\n",
       "      <td>332995771</td>\n",
       "      <td>1</td>\n",
       "    </tr>\n",
       "  </tbody>\n",
       "</table>\n",
       "</div>"
      ],
      "text/plain": [
       "        CID        SID target\n",
       "0   5308528  332971238      1\n",
       "1  45201490  333069819      1\n",
       "2   2304502  333168812      1\n",
       "3   1106138  333285740      1\n",
       "4    621204  332995771      1"
      ]
     },
     "execution_count": 8,
     "metadata": {},
     "output_type": "execute_result"
    }
   ],
   "source": [
    "df.rename(columns={'PUBCHEM_CID':'CID',\n",
    "                   'PUBCHEM_SID':'SID',\n",
    "                   'PUBCHEM_ACTIVITY_OUTCOME':'target'}, inplace=True)\n",
    "\n",
    "# Set the option to explicitly handle downcasting\n",
    "pd.set_option('future.no_silent_downcasting', True)\n",
    "\n",
    "# Create a mapping dictionary to replace string values with numeric values\n",
    "mapping = {'Active': 1, 'Inactive': 0}\n",
    "\n",
    "# Replace string values with numeric values using the mapping dictionary\n",
    "df['target'] = df['target'].replace(mapping)\n",
    "\n",
    "# Display the data frame\n",
    "print('Shape of the data frame: ', df.shape)\n",
    "df.head()"
   ]
  },
  {
   "cell_type": "code",
   "execution_count": 9,
   "id": "c38a04fa-4156-4971-af7f-7f7ae6c99d65",
   "metadata": {},
   "outputs": [],
   "source": [
    "# Turn CID float data type into integer\n",
    "df['target'] = pd.to_numeric(df['target']) "
   ]
  },
  {
   "cell_type": "code",
   "execution_count": 10,
   "id": "7953101b-96a7-47c0-a697-e26e7a787113",
   "metadata": {},
   "outputs": [
    {
     "data": {
      "text/plain": [
       "target\n",
       "0    633173\n",
       "1      6636\n",
       "Name: count, dtype: int64"
      ]
     },
     "execution_count": 10,
     "metadata": {},
     "output_type": "execute_result"
    }
   ],
   "source": [
    "df['target'].value_counts()"
   ]
  },
  {
   "cell_type": "code",
   "execution_count": 11,
   "id": "ef23cc9d-76b2-417f-8dc5-67dbf3c6bf00",
   "metadata": {},
   "outputs": [
    {
     "data": {
      "text/plain": [
       "(6636, 3)"
      ]
     },
     "execution_count": 11,
     "metadata": {},
     "output_type": "execute_result"
    }
   ],
   "source": [
    "df_1 = df[df['target']==1]\n",
    "df_1.shape"
   ]
  },
  {
   "cell_type": "markdown",
   "id": "0d36615f-0c28-4f6f-aa58-40c7bf0c06bc",
   "metadata": {},
   "source": [
    "[<a href=\"#content\">Back to top</a>]"
   ]
  },
  {
   "cell_type": "markdown",
   "id": "0d429725-306e-47a0-b48d-359550c8d1dc",
   "metadata": {},
   "source": [
    "## Reduce the inactive compounds <a name=\"3\"></a>"
   ]
  },
  {
   "cell_type": "code",
   "execution_count": 12,
   "id": "09b6482e-5692-456b-9876-9d0440dfb802",
   "metadata": {},
   "outputs": [
    {
     "name": "stdout",
     "output_type": "stream",
     "text": [
      "Shape of df_0:  (633173, 3)\n"
     ]
    }
   ],
   "source": [
    "# CSeparate target 0 compounds\n",
    "df_0 = df[df['target']==0]\n",
    "\n",
    "# # Shuffle the resulting data set\n",
    "# df_0 = df_0.sample(\n",
    "#     frac = 1,        # Return entire dataframe\n",
    "#     random_state=1   # Make result reproducible\n",
    "#     ).reset_index(drop=True)\n",
    "\n",
    "# # Extract every nth row (e.g., every 3rd row)      \n",
    "# n = 17\n",
    "# df_0 = df_0[df_0.index % n == 0] # 0.75\n",
    "\n",
    "# df_0 = df.iloc[:37000]           # 0.845\n",
    "# df_0 = df.iloc[37000:74000]      # 0.81\n",
    "# df_0 = df.iloc[74000:111000]     # 0.813\n",
    "# df_0 = df.iloc[111000:148000]    # 0.813\n",
    "# df_0 = df.iloc[148000:155000]    # 0.564\n",
    "# df_0 = df.iloc[155000:192000]    # 0.813\n",
    "# df_0 = df.iloc[192000:229000]    # 0.817\n",
    "# df_0 = df.iloc[229000:266000]    # 0.814\n",
    "# df_0 = df.iloc[266000:303000]    # 0.814\n",
    "# df_0 = df.iloc[303000:340000]    # 0.813\n",
    "# df_0 = df.iloc[340000:377000]    # 0.816 \n",
    "# df_0 = df.iloc[377000:414000]    # 0.814\n",
    "# df_0 = df.iloc[414000:451000]    # 0.814\n",
    "# df_0 = df.iloc[451000:488000]    # 0.816\n",
    "# df_0 = df.iloc[488000:525000]    # 0.814\n",
    "# df_0 = df.iloc[525000:562000]    # 0.815\n",
    "# df_0 = df.iloc[562000:599000]    # 0.812\n",
    "# df_0 = df.iloc[599000:639809]    # 0.83\n",
    "\n",
    "# Display the data frame\n",
    "print('Shape of df_0: ', df_0.shape)"
   ]
  },
  {
   "cell_type": "code",
   "execution_count": 13,
   "id": "90bb1dce-a5da-444c-bd8d-378494c01525",
   "metadata": {},
   "outputs": [],
   "source": [
    "# Print what should be ignored \n",
    "df_ignore = df_0.iloc[148000:155000] \n",
    "df_ignore.to_csv('unusful_for_GPR151_prediction.csv') "
   ]
  },
  {
   "cell_type": "code",
   "execution_count": 14,
   "id": "52247354-5d79-4191-96c9-b58c4829fd23",
   "metadata": {},
   "outputs": [
    {
     "data": {
      "text/plain": [
       "(39136, 3)"
      ]
     },
     "execution_count": 14,
     "metadata": {},
     "output_type": "execute_result"
    }
   ],
   "source": [
    "# Create df, excluding the part with cross-validation score 0.564\n",
    "df_1st_part = df_0.iloc[:148000] \n",
    "df_2nd_part = df_0.iloc[155000:] \n",
    "df_0 = pd.concat([df_1st_part, df_2nd_part])\n",
    "\n",
    "# Shuffle the resulting data set\n",
    "df_0 = df_0.sample(\n",
    "    frac = 1,        # Return entire dataframe\n",
    "    random_state=1   # Make result reproducible\n",
    "    ).reset_index(drop=True)\n",
    "\n",
    "# Extract every nth row     \n",
    "n = 16\n",
    "df_0 = df_0[df_0.index % n == 0] \n",
    "df_0.shape"
   ]
  },
  {
   "cell_type": "code",
   "execution_count": 15,
   "id": "264b8006-c3ed-46ef-a856-0e09aff3a5c5",
   "metadata": {},
   "outputs": [],
   "source": [
    "# Concatenate target 1 and 0 compounds \n",
    "df = pd.concat([df_0, df_1])"
   ]
  },
  {
   "cell_type": "code",
   "execution_count": 16,
   "id": "e234190f-43ab-45fd-b143-a86f4c722cb3",
   "metadata": {},
   "outputs": [
    {
     "data": {
      "text/plain": [
       "target\n",
       "0    39136\n",
       "1     6636\n",
       "Name: count, dtype: int64"
      ]
     },
     "execution_count": 16,
     "metadata": {},
     "output_type": "execute_result"
    }
   ],
   "source": [
    "# Count each of the binary targets\n",
    "df['target'].value_counts()"
   ]
  },
  {
   "cell_type": "code",
   "execution_count": 17,
   "id": "f6e4f71b-9466-402e-8e87-a1f08323b196",
   "metadata": {},
   "outputs": [
    {
     "name": "stdout",
     "output_type": "stream",
     "text": [
      "<class 'pandas.core.frame.DataFrame'>\n",
      "Index: 45772 entries, 0 to 6635\n",
      "Data columns (total 3 columns):\n",
      " #   Column  Non-Null Count  Dtype\n",
      "---  ------  --------------  -----\n",
      " 0   CID     45772 non-null  int64\n",
      " 1   SID     45772 non-null  int64\n",
      " 2   target  45772 non-null  int64\n",
      "dtypes: int64(3)\n",
      "memory usage: 1.4 MB\n"
     ]
    }
   ],
   "source": [
    "df.info()"
   ]
  },
  {
   "cell_type": "code",
   "execution_count": 18,
   "id": "8b76c721-1302-42da-b38a-7944a1f6722f",
   "metadata": {},
   "outputs": [
    {
     "name": "stdout",
     "output_type": "stream",
     "text": [
      "Shape of df:  (45772, 3)\n"
     ]
    },
    {
     "data": {
      "text/html": [
       "<div>\n",
       "<style scoped>\n",
       "    .dataframe tbody tr th:only-of-type {\n",
       "        vertical-align: middle;\n",
       "    }\n",
       "\n",
       "    .dataframe tbody tr th {\n",
       "        vertical-align: top;\n",
       "    }\n",
       "\n",
       "    .dataframe thead th {\n",
       "        text-align: right;\n",
       "    }\n",
       "</style>\n",
       "<table border=\"1\" class=\"dataframe\">\n",
       "  <thead>\n",
       "    <tr style=\"text-align: right;\">\n",
       "      <th></th>\n",
       "      <th>CID</th>\n",
       "      <th>SID</th>\n",
       "      <th>target</th>\n",
       "    </tr>\n",
       "  </thead>\n",
       "  <tbody>\n",
       "    <tr>\n",
       "      <th>0</th>\n",
       "      <td>5342432</td>\n",
       "      <td>333096538</td>\n",
       "      <td>0</td>\n",
       "    </tr>\n",
       "    <tr>\n",
       "      <th>1</th>\n",
       "      <td>1531854</td>\n",
       "      <td>333461953</td>\n",
       "      <td>0</td>\n",
       "    </tr>\n",
       "    <tr>\n",
       "      <th>2</th>\n",
       "      <td>780553</td>\n",
       "      <td>333246479</td>\n",
       "      <td>0</td>\n",
       "    </tr>\n",
       "    <tr>\n",
       "      <th>3</th>\n",
       "      <td>734064</td>\n",
       "      <td>333159273</td>\n",
       "      <td>0</td>\n",
       "    </tr>\n",
       "    <tr>\n",
       "      <th>4</th>\n",
       "      <td>5052640</td>\n",
       "      <td>333429003</td>\n",
       "      <td>0</td>\n",
       "    </tr>\n",
       "  </tbody>\n",
       "</table>\n",
       "</div>"
      ],
      "text/plain": [
       "       CID        SID  target\n",
       "0  5342432  333096538       0\n",
       "1  1531854  333461953       0\n",
       "2   780553  333246479       0\n",
       "3   734064  333159273       0\n",
       "4  5052640  333429003       0"
      ]
     },
     "execution_count": 18,
     "metadata": {},
     "output_type": "execute_result"
    }
   ],
   "source": [
    "# Shuffle the resulting data set\n",
    "df = df.sample(\n",
    "    frac = 1,        # Return entire dataframe\n",
    "    random_state=1   # Make result reproducible\n",
    "    ).reset_index(drop=True)\n",
    "\n",
    "# Display the data frame\n",
    "print('Shape of df: ', df.shape)\n",
    "df.head()"
   ]
  },
  {
   "cell_type": "markdown",
   "id": "0dbee87c-acc2-4afb-bb44-3594024cec9b",
   "metadata": {},
   "source": [
    "[<a href=\"#content\">Back to top</a>]"
   ]
  },
  {
   "cell_type": "code",
   "execution_count": 19,
   "id": "b1a877ae-8701-4827-bef5-2b5bec4962ae",
   "metadata": {},
   "outputs": [
    {
     "name": "stdout",
     "output_type": "stream",
     "text": [
      "Cross-validation scores: [0.824 0.825 0.823 0.822 0.82 ]\n",
      "Mean cross-validation score: 0.823\n"
     ]
    }
   ],
   "source": [
    "from sklearn.model_selection import cross_val_score\n",
    "from sklearn.ensemble import RandomForestClassifier\n",
    "import numpy as np\n",
    "\n",
    "X = df.drop(columns='target', axis=1)\n",
    "y = df['target']\n",
    "\n",
    "# Instantiate the estimator \n",
    "model = RandomForestClassifier()\n",
    "\n",
    "# Perform 5-fold cross-validation\n",
    "scores = cross_val_score(model, X, y, cv=5, scoring='accuracy')\n",
    "\n",
    "print(\"Cross-validation scores:\", np.round(scores, 3))\n",
    "print(\"Mean cross-validation score:\", np.round(scores.mean(), 3))"
   ]
  },
  {
   "cell_type": "markdown",
   "id": "622bef63-c834-4466-8d55-a368d1e047ae",
   "metadata": {},
   "source": [
    "[<a href=\"#content\">Back to top</a>]"
   ]
  },
  {
   "cell_type": "markdown",
   "id": "ad3f599f-d02e-4692-afdb-23d76ad34924",
   "metadata": {},
   "source": [
    "## Generate a csv file with CIDs and targets for IUPAC names dowloading  <a name=\"4\"></a>"
   ]
  },
  {
   "cell_type": "code",
   "execution_count": 20,
   "id": "1b078d4f-ac4b-4652-82e0-727cedbc6cab",
   "metadata": {},
   "outputs": [],
   "source": [
    "df.to_csv('CIDs_targets_GPR151.csv') "
   ]
  },
  {
   "cell_type": "markdown",
   "id": "5aaac897-6524-461a-96f0-c8b075c8b16b",
   "metadata": {},
   "source": [
    "[<a href=\"#content\">Back to top</a>]"
   ]
  }
 ],
 "metadata": {
  "kernelspec": {
   "display_name": "Python 3 (ipykernel)",
   "language": "python",
   "name": "python3"
  },
  "language_info": {
   "codemirror_mode": {
    "name": "ipython",
    "version": 3
   },
   "file_extension": ".py",
   "mimetype": "text/x-python",
   "name": "python",
   "nbconvert_exporter": "python",
   "pygments_lexer": "ipython3",
   "version": "3.12.2"
  }
 },
 "nbformat": 4,
 "nbformat_minor": 5
}
